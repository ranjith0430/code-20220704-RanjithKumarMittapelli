{
 "cells": [
  {
   "cell_type": "code",
   "execution_count": 104,
   "id": "1f41454a",
   "metadata": {
    "scrolled": true
   },
   "outputs": [
    {
     "data": {
      "text/html": [
       "<div>\n",
       "<style scoped>\n",
       "    .dataframe tbody tr th:only-of-type {\n",
       "        vertical-align: middle;\n",
       "    }\n",
       "\n",
       "    .dataframe tbody tr th {\n",
       "        vertical-align: top;\n",
       "    }\n",
       "\n",
       "    .dataframe thead th {\n",
       "        text-align: right;\n",
       "    }\n",
       "</style>\n",
       "<table border=\"1\" class=\"dataframe\">\n",
       "  <thead>\n",
       "    <tr style=\"text-align: right;\">\n",
       "      <th></th>\n",
       "      <th>Gender</th>\n",
       "      <th>HeightCm</th>\n",
       "      <th>WeightKg</th>\n",
       "    </tr>\n",
       "  </thead>\n",
       "  <tbody>\n",
       "    <tr>\n",
       "      <th>0</th>\n",
       "      <td>Male</td>\n",
       "      <td>171</td>\n",
       "      <td>96</td>\n",
       "    </tr>\n",
       "    <tr>\n",
       "      <th>1</th>\n",
       "      <td>Male</td>\n",
       "      <td>161</td>\n",
       "      <td>85</td>\n",
       "    </tr>\n",
       "    <tr>\n",
       "      <th>2</th>\n",
       "      <td>Male</td>\n",
       "      <td>180</td>\n",
       "      <td>77</td>\n",
       "    </tr>\n",
       "    <tr>\n",
       "      <th>3</th>\n",
       "      <td>Female</td>\n",
       "      <td>166</td>\n",
       "      <td>62</td>\n",
       "    </tr>\n",
       "    <tr>\n",
       "      <th>4</th>\n",
       "      <td>Female</td>\n",
       "      <td>150</td>\n",
       "      <td>70</td>\n",
       "    </tr>\n",
       "    <tr>\n",
       "      <th>5</th>\n",
       "      <td>Female</td>\n",
       "      <td>167</td>\n",
       "      <td>82</td>\n",
       "    </tr>\n",
       "  </tbody>\n",
       "</table>\n",
       "</div>"
      ],
      "text/plain": [
       "   Gender  HeightCm  WeightKg\n",
       "0    Male       171        96\n",
       "1    Male       161        85\n",
       "2    Male       180        77\n",
       "3  Female       166        62\n",
       "4  Female       150        70\n",
       "5  Female       167        82"
      ]
     },
     "execution_count": 104,
     "metadata": {},
     "output_type": "execute_result"
    }
   ],
   "source": [
    "import pandas as pd\n",
    "data=pd.read_csv(r'C:\\Users\\HP\\Desktop\\BMI/BMI_Dataset.csv')\n",
    "data.describe()\n",
    "data"
   ]
  },
  {
   "cell_type": "code",
   "execution_count": 105,
   "id": "50d665d9",
   "metadata": {
    "scrolled": true
   },
   "outputs": [
    {
     "name": "stdout",
     "output_type": "stream",
     "text": [
      "Number of Overweight Persons: 1\n"
     ]
    },
    {
     "name": "stderr",
     "output_type": "stream",
     "text": [
      "C:\\Users\\HP\\AppData\\Local\\Temp/ipykernel_19448/2143306839.py:32: DeprecationWarning: The default dtype for empty Series will be 'object' instead of 'float64' in a future version. Specify a dtype explicitly to silence this warning.\n",
      "  bmi=pd.Series([])\n",
      "C:\\Users\\HP\\AppData\\Local\\Temp/ipykernel_19448/2143306839.py:33: DeprecationWarning: The default dtype for empty Series will be 'object' instead of 'float64' in a future version. Specify a dtype explicitly to silence this warning.\n",
      "  health_risk= pd.Series([])\n",
      "C:\\Users\\HP\\AppData\\Local\\Temp/ipykernel_19448/2143306839.py:34: DeprecationWarning: The default dtype for empty Series will be 'object' instead of 'float64' in a future version. Specify a dtype explicitly to silence this warning.\n",
      "  bmi_category=pd.Series([])\n"
     ]
    }
   ],
   "source": [
    "class BMICalculator:\n",
    "    \n",
    "    #BMI calculation\n",
    "    def calculator_BMI(self,weight,height):\n",
    "        return round(weight/((height/100)**2),2)\n",
    "    \n",
    "    #classifying person based on BMI values \n",
    "    def classify_person_based_BMI(self,bmi):\n",
    "        if bmi<=18.49:\n",
    "            return \"Underweight:Malnutrition risk\"\n",
    "        elif bmi>=18.5 and bmi<=24.99:\n",
    "            return \"Normal weight:Low risk\"\n",
    "        elif bmi>=25 and bmi<=29.99:\n",
    "            return \"Overweight:Enhanced risk\"\n",
    "        elif bmi>=30 and bmi<=34.99:\n",
    "            return \"Moderately obese:Medium risk\"\n",
    "        elif bmi>=35 and bmi<=39.99:\n",
    "            return \"Severely obese:High risk\"\n",
    "        else:\n",
    "            return \"Very severely obese:Very high risk\"\n",
    "        \n",
    "    #overWeight count\n",
    "    def overweight_count(self,data):\n",
    "        count=0\n",
    "        for i in range(len(data[\"BMI Category\"])):\n",
    "            if bmi_category[i]==\"Overweight\":\n",
    "                count+=1\n",
    "        return count\n",
    "    \n",
    "    #adding new columns\n",
    "    def add_columns(self,data):\n",
    "        bmi=pd.Series([])\n",
    "        health_risk= pd.Series([])\n",
    "        bmi_category=pd.Series([])\n",
    "        for i in range(len(data)):\n",
    "            height= data[\"HeightCm\"][i] \n",
    "            weight=data[\"WeightKg\"][i]\n",
    "            bmi[i]=self.calculator_BMI(weight,height)\n",
    "            bmi_category_list=self.classify_person_based_BMI(bmi[i]).split(\":\")\n",
    "            health_risk[i]=bmi_category_list[1]\n",
    "            bmi_category[i]=bmi_category_list[0]\n",
    "        data.insert(3, \"BMI\", bmi)\n",
    "        data.insert(4, \"BMI Category\", bmi_category)\n",
    "        data.insert(5, \"Health risk\", health_risk) \n",
    "\n",
    "bmi_calculator=BMICalculator()\n",
    "bmi_calculator.add_columns(data)\n",
    "print(\"Number of Overweight Persons: \"+ str(bmi_calculator.overweight_count(data)))\n",
    "        "
   ]
  },
  {
   "cell_type": "code",
   "execution_count": 106,
   "id": "a59212bd",
   "metadata": {},
   "outputs": [
    {
     "data": {
      "text/html": [
       "<div>\n",
       "<style scoped>\n",
       "    .dataframe tbody tr th:only-of-type {\n",
       "        vertical-align: middle;\n",
       "    }\n",
       "\n",
       "    .dataframe tbody tr th {\n",
       "        vertical-align: top;\n",
       "    }\n",
       "\n",
       "    .dataframe thead th {\n",
       "        text-align: right;\n",
       "    }\n",
       "</style>\n",
       "<table border=\"1\" class=\"dataframe\">\n",
       "  <thead>\n",
       "    <tr style=\"text-align: right;\">\n",
       "      <th></th>\n",
       "      <th>Gender</th>\n",
       "      <th>HeightCm</th>\n",
       "      <th>WeightKg</th>\n",
       "      <th>BMI</th>\n",
       "      <th>BMI Category</th>\n",
       "      <th>Health risk</th>\n",
       "    </tr>\n",
       "  </thead>\n",
       "  <tbody>\n",
       "    <tr>\n",
       "      <th>0</th>\n",
       "      <td>Male</td>\n",
       "      <td>171</td>\n",
       "      <td>96</td>\n",
       "      <td>32.83</td>\n",
       "      <td>Moderately obese</td>\n",
       "      <td>Medium risk</td>\n",
       "    </tr>\n",
       "    <tr>\n",
       "      <th>1</th>\n",
       "      <td>Male</td>\n",
       "      <td>161</td>\n",
       "      <td>85</td>\n",
       "      <td>32.79</td>\n",
       "      <td>Moderately obese</td>\n",
       "      <td>Medium risk</td>\n",
       "    </tr>\n",
       "    <tr>\n",
       "      <th>2</th>\n",
       "      <td>Male</td>\n",
       "      <td>180</td>\n",
       "      <td>77</td>\n",
       "      <td>23.77</td>\n",
       "      <td>Normal weight</td>\n",
       "      <td>Low risk</td>\n",
       "    </tr>\n",
       "    <tr>\n",
       "      <th>3</th>\n",
       "      <td>Female</td>\n",
       "      <td>166</td>\n",
       "      <td>62</td>\n",
       "      <td>22.50</td>\n",
       "      <td>Normal weight</td>\n",
       "      <td>Low risk</td>\n",
       "    </tr>\n",
       "    <tr>\n",
       "      <th>4</th>\n",
       "      <td>Female</td>\n",
       "      <td>150</td>\n",
       "      <td>70</td>\n",
       "      <td>31.11</td>\n",
       "      <td>Moderately obese</td>\n",
       "      <td>Medium risk</td>\n",
       "    </tr>\n",
       "    <tr>\n",
       "      <th>5</th>\n",
       "      <td>Female</td>\n",
       "      <td>167</td>\n",
       "      <td>82</td>\n",
       "      <td>29.40</td>\n",
       "      <td>Overweight</td>\n",
       "      <td>Enhanced risk</td>\n",
       "    </tr>\n",
       "  </tbody>\n",
       "</table>\n",
       "</div>"
      ],
      "text/plain": [
       "   Gender  HeightCm  WeightKg    BMI      BMI Category    Health risk\n",
       "0    Male       171        96  32.83  Moderately obese    Medium risk\n",
       "1    Male       161        85  32.79  Moderately obese    Medium risk\n",
       "2    Male       180        77  23.77     Normal weight       Low risk\n",
       "3  Female       166        62  22.50     Normal weight       Low risk\n",
       "4  Female       150        70  31.11  Moderately obese    Medium risk\n",
       "5  Female       167        82  29.40        Overweight  Enhanced risk"
      ]
     },
     "execution_count": 106,
     "metadata": {},
     "output_type": "execute_result"
    }
   ],
   "source": [
    "data"
   ]
  },
  {
   "cell_type": "code",
   "execution_count": 107,
   "id": "a7d6fce1",
   "metadata": {},
   "outputs": [
    {
     "name": "stderr",
     "output_type": "stream",
     "text": [
      "test_BMI (__main__.Test_BMICalculator) ... ok\n",
      "test_BMI_category (__main__.Test_BMICalculator) ... ok\n",
      "test_health_risk (__main__.Test_BMICalculator) ... ok\n",
      "\n",
      "----------------------------------------------------------------------\n",
      "Ran 3 tests in 0.005s\n",
      "\n",
      "OK\n"
     ]
    },
    {
     "data": {
      "text/plain": [
       "<unittest.main.TestProgram at 0x1cf74012550>"
      ]
     },
     "execution_count": 107,
     "metadata": {},
     "output_type": "execute_result"
    }
   ],
   "source": [
    "import unittest\n",
    "\n",
    "class Test_BMICalculator(unittest.TestCase):\n",
    "    bmi_calculator=BMICalculator()\n",
    "    def test_BMI(self):\n",
    "        self.assertEqual(bmi_calculator.calculator_BMI(80,141),40.24)      \n",
    "        self.assertEqual(bmi_calculator.calculator_BMI(55,125),35.2)        \n",
    "        self.assertEqual(bmi_calculator.calculator_BMI(90,162),34.29)     \n",
    "        self.assertEqual(bmi_calculator.calculator_BMI(76,168),26.93)              \n",
    "        self.assertEqual(bmi_calculator.calculator_BMI(68,184),20.09)\n",
    "        self.assertEqual(bmi_calculator.calculator_BMI(55,173),18.38)    \n",
    "         \n",
    "    def test_BMI_category(self):\n",
    "        self.assertEqual(bmi_calculator.classify_person_based_BMI(45).split(\":\")[0],\"Very severely obese\")\n",
    "        self.assertEqual(bmi_calculator.classify_person_based_BMI(39.9).split(\":\")[0],\"Severely obese\")\n",
    "        self.assertEqual(bmi_calculator.classify_person_based_BMI(30.0).split(\":\")[0],\"Moderately obese\")\n",
    "        self.assertEqual(bmi_calculator.classify_person_based_BMI(29.99).split(\":\")[0],\"Overweight\")\n",
    "        self.assertEqual(bmi_calculator.classify_person_based_BMI(18.5).split(\":\")[0],\"Normal weight\")\n",
    "        self.assertEqual(bmi_calculator.classify_person_based_BMI(15).split(\":\")[0],\"Underweight\")\n",
    "    \n",
    "    def test_health_risk(self):\n",
    "        self.assertEqual(bmi_calculator.classify_person_based_BMI(18.4).split(\":\")[1],\"Malnutrition risk\")\n",
    "        self.assertEqual(bmi_calculator.classify_person_based_BMI(24.9).split(\":\")[1],\"Low risk\") \n",
    "        self.assertEqual(bmi_calculator.classify_person_based_BMI(25).split(\":\")[1],\"Enhanced risk\")\n",
    "        self.assertEqual(bmi_calculator.classify_person_based_BMI(32.88).split(\":\")[1],\"Medium risk\")\n",
    "        self.assertEqual(bmi_calculator.classify_person_based_BMI(37.75).split(\":\")[1],\"High risk\")\n",
    "        self.assertEqual(bmi_calculator.classify_person_based_BMI(42.5).split(\":\")[1],\"Very high risk\")\n",
    "        pass\n",
    "        \n",
    "\n",
    "unittest.main(argv=[''], verbosity =2, exit = False)\n"
   ]
  },
  {
   "cell_type": "code",
   "execution_count": null,
   "id": "1b20c570",
   "metadata": {},
   "outputs": [],
   "source": []
  }
 ],
 "metadata": {
  "kernelspec": {
   "display_name": "Python 3 (ipykernel)",
   "language": "python",
   "name": "python3"
  },
  "language_info": {
   "codemirror_mode": {
    "name": "ipython",
    "version": 3
   },
   "file_extension": ".py",
   "mimetype": "text/x-python",
   "name": "python",
   "nbconvert_exporter": "python",
   "pygments_lexer": "ipython3",
   "version": "3.9.7"
  }
 },
 "nbformat": 4,
 "nbformat_minor": 5
}
